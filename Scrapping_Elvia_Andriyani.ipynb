{
  "nbformat": 4,
  "nbformat_minor": 0,
  "metadata": {
    "colab": {
      "provenance": []
    },
    "kernelspec": {
      "name": "python3",
      "display_name": "Python 3"
    },
    "language_info": {
      "name": "python"
    }
  },
  "cells": [
    {
      "cell_type": "code",
      "execution_count": 4,
      "metadata": {
        "colab": {
          "base_uri": "https://localhost:8080/",
          "height": 1000
        },
        "id": "yOH-dyUXQEdm",
        "outputId": "21bd0314-b73f-4711-eb7c-832a40493f60"
      },
      "outputs": [
        {
          "output_type": "stream",
          "name": "stdout",
          "text": [
            "Requirement already satisfied: beautifulsoup4 in /usr/local/lib/python3.10/dist-packages (4.12.3)\n",
            "Requirement already satisfied: requests in /usr/local/lib/python3.10/dist-packages (2.32.3)\n",
            "Requirement already satisfied: soupsieve>1.2 in /usr/local/lib/python3.10/dist-packages (from beautifulsoup4) (2.6)\n",
            "Requirement already satisfied: charset-normalizer<4,>=2 in /usr/local/lib/python3.10/dist-packages (from requests) (3.4.0)\n",
            "Requirement already satisfied: idna<4,>=2.5 in /usr/local/lib/python3.10/dist-packages (from requests) (3.10)\n",
            "Requirement already satisfied: urllib3<3,>=1.21.1 in /usr/local/lib/python3.10/dist-packages (from requests) (2.2.3)\n",
            "Requirement already satisfied: certifi>=2017.4.17 in /usr/local/lib/python3.10/dist-packages (from requests) (2024.8.30)\n",
            "Situs berhasil diakses!\n",
            "\n",
            "== Data Teks ==\n",
            "Judul Halaman: Persona 4\n",
            "\n",
            "== Deskripsi Singkat ==\n",
            "Paragraf 1:\n",
            "Persona 4ペルソナ4Perusona 4Game InformationDeveloperAtlusPublisherAtlus (JPN, NA)Square Enix (EU)Ubisoft(AU)Sony(KR)GenreRPGPlatformPlayStation 2,PlayStation 3*SalesFirst WeekJapan (PS2) - 211,967[1]Life to DateJapan (PS2) - 358,899 (294,214 +The Best64,685)NA - 100kDevelopmentDirector(s)Katsura HashinoWriter(s)Yuichiro TanakaAkira KawasakiArtist(s)Shigenori SoejimaSusumu NishizawaDesigner(s)Atsushi WatanabeAzusa KidoProgrammer(s)Yujiro KosakaComposer(s)Shoji MeguroRelease DatesJapanJuly 10, 2008The BestAugust 5, 2010North AmericaPlayStation 2December 9, 2008PlayStation StoreApril 8, 2014EuropeMarch 13, 2009AustraliaMarch 12, 2009South KoreaOctober 31, 2008\n",
            "\n",
            "Paragraf 2:\n",
            "Persona 4, localized in the West asShin Megami Tensei: Persona 4, is the fifth game in thePersonaseries. The game was developed by Atlus for thePlayStation 2, and was ported to thePlayStation 3's PlayStation Store as a downloadable classic akin toPersona 3 FES, but only in North/South America.\n",
            "\n",
            "Paragraf 3:\n",
            "An enhanced port ofPersona 4,Persona 4 Golden, was released in 2012 forPlayStation Vita, forSteamin 2020, and in 2023 forNintendo Switch,PlayStation 4,Xbox One,Xbox Series X/Sand the Microsoft Store on PC. It has many new features over the originalPersona 4and re-did certain enemy stats, dungeon aspects, voices for Chie and Teddie, among others.\n",
            "\n",
            "\n",
            "== Daftar Poin ==\n",
            "- 1Plot\n",
            "- 2Themes\n",
            "- 3Characters3.1Playable Characters3.2Supporting Characters\n",
            "- 3.1Playable Characters\n",
            "- 3.2Supporting Characters\n",
            "- 4Gameplay4.1Difficulty4.2Daytime4.3Evening4.4Social Links4.5Exploring the TV World4.6Combat4.7Shuffle Time\n",
            "- 4.1Difficulty\n",
            "- 4.2Daytime\n",
            "- 4.3Evening\n",
            "- 4.4Social Links\n",
            "- 4.5Exploring the TV World\n",
            "- 4.6Combat\n",
            "- 4.7Shuffle Time\n",
            "- 5Related Media\n",
            "- 6Gallery\n",
            "- 7Videos\n",
            "- 8In Other Languages\n",
            "- 9Trivia\n",
            "- 10External Links\n",
            "- 11References\n",
            "- 3.1Playable Characters\n",
            "- 3.2Supporting Characters\n",
            "\n",
            "== Data Gambar Berdasarkan Kategori ==\n",
            "Gambar 1 (large): https://static.wikia.nocookie.net/megamitensei/images/e/e6/Site-logo.png/revision/latest?cb=20210626181118\n",
            "Gambar 1 berhasil disimpan sebagai downloaded_images/large/image_1.jpg\n"
          ]
        },
        {
          "output_type": "display_data",
          "data": {
            "text/html": [
              "<img src=\"https://static.wikia.nocookie.net/megamitensei/images/e/e6/Site-logo.png/revision/latest?cb=20210626181118\"/>"
            ],
            "text/plain": [
              "<IPython.core.display.Image object>"
            ]
          },
          "metadata": {}
        },
        {
          "output_type": "stream",
          "name": "stdout",
          "text": [
            "Gambar 2 (large): https://static.wikia.nocookie.net/megamitensei/images/e/e6/Site-logo.png/revision/latest?cb=20210626181118\n",
            "Gambar 2 berhasil disimpan sebagai downloaded_images/large/image_2.jpg\n"
          ]
        },
        {
          "output_type": "display_data",
          "data": {
            "text/html": [
              "<img src=\"https://static.wikia.nocookie.net/megamitensei/images/e/e6/Site-logo.png/revision/latest?cb=20210626181118\"/>"
            ],
            "text/plain": [
              "<IPython.core.display.Image object>"
            ]
          },
          "metadata": {}
        },
        {
          "output_type": "stream",
          "name": "stdout",
          "text": [
            "Gambar 3 (large): https://static.wikia.nocookie.net/megamitensei/images/9/9b/P4-CoverArt.jpg/revision/latest/scale-to-width-down/350?cb=20160516234031\n",
            "Gambar 3 berhasil disimpan sebagai downloaded_images/large/image_3.jpg\n"
          ]
        },
        {
          "output_type": "display_data",
          "data": {
            "text/html": [
              "<img src=\"https://static.wikia.nocookie.net/megamitensei/images/9/9b/P4-CoverArt.jpg/revision/latest/scale-to-width-down/350?cb=20160516234031\"/>"
            ],
            "text/plain": [
              "<IPython.core.display.Image object>"
            ]
          },
          "metadata": {}
        },
        {
          "output_type": "stream",
          "name": "stdout",
          "text": [
            "Gambar 4 (small): https://static.wikia.nocookie.net/megamitensei/images/6/60/Flag_of_Japan.png/revision/latest/scale-to-width-down/25?cb=20130115003127\n",
            "Gambar 4 berhasil disimpan sebagai downloaded_images/small/image_4.jpg\n"
          ]
        },
        {
          "output_type": "display_data",
          "data": {
            "text/html": [
              "<img src=\"https://static.wikia.nocookie.net/megamitensei/images/6/60/Flag_of_Japan.png/revision/latest/scale-to-width-down/25?cb=20130115003127\"/>"
            ],
            "text/plain": [
              "<IPython.core.display.Image object>"
            ]
          },
          "metadata": {}
        },
        {
          "output_type": "stream",
          "name": "stdout",
          "text": [
            "Gambar 5 (small): https://static.wikia.nocookie.net/megamitensei/images/d/de/Flag_of_the_United_States.png/revision/latest/scale-to-width-down/25?cb=20170330020633\n",
            "Gambar 5 berhasil disimpan sebagai downloaded_images/small/image_5.jpg\n"
          ]
        },
        {
          "output_type": "display_data",
          "data": {
            "text/html": [
              "<img src=\"https://static.wikia.nocookie.net/megamitensei/images/d/de/Flag_of_the_United_States.png/revision/latest/scale-to-width-down/25?cb=20170330020633\"/>"
            ],
            "text/plain": [
              "<IPython.core.display.Image object>"
            ]
          },
          "metadata": {}
        },
        {
          "output_type": "stream",
          "name": "stdout",
          "text": [
            "Gambar 6 (small): https://static.wikia.nocookie.net/megamitensei/images/1/19/Flag_of_Europe.png/revision/latest/scale-to-width-down/25?cb=20130115003016\n",
            "Gambar 6 berhasil disimpan sebagai downloaded_images/small/image_6.jpg\n"
          ]
        },
        {
          "output_type": "display_data",
          "data": {
            "text/html": [
              "<img src=\"https://static.wikia.nocookie.net/megamitensei/images/1/19/Flag_of_Europe.png/revision/latest/scale-to-width-down/25?cb=20130115003016\"/>"
            ],
            "text/plain": [
              "<IPython.core.display.Image object>"
            ]
          },
          "metadata": {}
        },
        {
          "output_type": "stream",
          "name": "stdout",
          "text": [
            "Gambar 7 (small): https:data:image/gif;base64,R0lGODlhAQABAIABAAAAAP///yH5BAEAAAEALAAAAAABAAEAQAICTAEAOw%3D%3D\n",
            "Gagal mengunduh gambar: Invalid URL 'https:data:image/gif;base64,R0lGODlhAQABAIABAAAAAP///yH5BAEAAAEALAAAAAABAAEAQAICTAEAOw%3D%3D': No host supplied\n",
            "Gambar 8 (small): https:data:image/gif;base64,R0lGODlhAQABAIABAAAAAP///yH5BAEAAAEALAAAAAABAAEAQAICTAEAOw%3D%3D\n",
            "Gagal mengunduh gambar: Invalid URL 'https:data:image/gif;base64,R0lGODlhAQABAIABAAAAAP///yH5BAEAAAEALAAAAAABAAEAQAICTAEAOw%3D%3D': No host supplied\n",
            "Gambar 9 (large): https:data:image/gif;base64,R0lGODlhAQABAIABAAAAAP///yH5BAEAAAEALAAAAAABAAEAQAICTAEAOw%3D%3D\n",
            "Gagal mengunduh gambar: Invalid URL 'https:data:image/gif;base64,R0lGODlhAQABAIABAAAAAP///yH5BAEAAAEALAAAAAABAAEAQAICTAEAOw%3D%3D': No host supplied\n",
            "Gambar 10 (large): https:data:image/gif;base64,R0lGODlhAQABAIABAAAAAP///yH5BAEAAAEALAAAAAABAAEAQAICTAEAOw%3D%3D\n",
            "Gagal mengunduh gambar: Invalid URL 'https:data:image/gif;base64,R0lGODlhAQABAIABAAAAAP///yH5BAEAAAEALAAAAAABAAEAQAICTAEAOw%3D%3D': No host supplied\n",
            "Gambar 11 (large): https://static.wikia.nocookie.net/megamitensei/images/8/8a/Saki_antenna.gif/revision/latest/scale-to-width-down/250?cb=20160916075328\n",
            "Gambar 11 berhasil disimpan sebagai downloaded_images/large/image_11.jpg\n"
          ]
        },
        {
          "output_type": "display_data",
          "data": {
            "text/html": [
              "<img src=\"https://static.wikia.nocookie.net/megamitensei/images/8/8a/Saki_antenna.gif/revision/latest/scale-to-width-down/250?cb=20160916075328\"/>"
            ],
            "text/plain": [
              "<IPython.core.display.Image object>"
            ]
          },
          "metadata": {}
        },
        {
          "output_type": "stream",
          "name": "stdout",
          "text": [
            "Gambar 12 (large): https:data:image/gif;base64,R0lGODlhAQABAIABAAAAAP///yH5BAEAAAEALAAAAAABAAEAQAICTAEAOw%3D%3D\n",
            "Gagal mengunduh gambar: Invalid URL 'https:data:image/gif;base64,R0lGODlhAQABAIABAAAAAP///yH5BAEAAAEALAAAAAABAAEAQAICTAEAOw%3D%3D': No host supplied\n",
            "Gambar 13 (large): https:data:image/gif;base64,R0lGODlhAQABAIABAAAAAP///yH5BAEAAAEALAAAAAABAAEAQAICTAEAOw%3D%3D\n",
            "Gagal mengunduh gambar: Invalid URL 'https:data:image/gif;base64,R0lGODlhAQABAIABAAAAAP///yH5BAEAAAEALAAAAAABAAEAQAICTAEAOw%3D%3D': No host supplied\n",
            "Gambar 14 (large): https:data:image/gif;base64,R0lGODlhAQABAIABAAAAAP///yH5BAEAAAEALAAAAAABAAEAQAICTAEAOw%3D%3D\n",
            "Gagal mengunduh gambar: Invalid URL 'https:data:image/gif;base64,R0lGODlhAQABAIABAAAAAP///yH5BAEAAAEALAAAAAABAAEAQAICTAEAOw%3D%3D': No host supplied\n",
            "Gambar 15 (large): https:data:image/gif;base64,R0lGODlhAQABAIABAAAAAP///yH5BAEAAAEALAAAAAABAAEAQAICTAEAOw%3D%3D\n",
            "Gagal mengunduh gambar: Invalid URL 'https:data:image/gif;base64,R0lGODlhAQABAIABAAAAAP///yH5BAEAAAEALAAAAAABAAEAQAICTAEAOw%3D%3D': No host supplied\n",
            "Gambar 16 (large): https:data:image/gif;base64,R0lGODlhAQABAIABAAAAAP///yH5BAEAAAEALAAAAAABAAEAQAICTAEAOw%3D%3D\n",
            "Gagal mengunduh gambar: Invalid URL 'https:data:image/gif;base64,R0lGODlhAQABAIABAAAAAP///yH5BAEAAAEALAAAAAABAAEAQAICTAEAOw%3D%3D': No host supplied\n",
            "Gambar 17 (large): https://static.wikia.nocookie.net/megamitensei/images/0/09/Shadow_Teddie.jpg/revision/latest/scale-to-width-down/250?cb=20140315013616\n",
            "Gambar 17 berhasil disimpan sebagai downloaded_images/large/image_17.jpg\n"
          ]
        },
        {
          "output_type": "display_data",
          "data": {
            "text/html": [
              "<img src=\"https://static.wikia.nocookie.net/megamitensei/images/0/09/Shadow_Teddie.jpg/revision/latest/scale-to-width-down/250?cb=20140315013616\"/>"
            ],
            "text/plain": [
              "<IPython.core.display.Image object>"
            ]
          },
          "metadata": {}
        },
        {
          "output_type": "stream",
          "name": "stdout",
          "text": [
            "Gambar 18 (large): https:data:image/gif;base64,R0lGODlhAQABAIABAAAAAP///yH5BAEAAAEALAAAAAABAAEAQAICTAEAOw%3D%3D\n",
            "Gagal mengunduh gambar: Invalid URL 'https:data:image/gif;base64,R0lGODlhAQABAIABAAAAAP///yH5BAEAAAEALAAAAAABAAEAQAICTAEAOw%3D%3D': No host supplied\n",
            "Gambar 19 (large): https:data:image/gif;base64,R0lGODlhAQABAIABAAAAAP///yH5BAEAAAEALAAAAAABAAEAQAICTAEAOw%3D%3D\n",
            "Gagal mengunduh gambar: Invalid URL 'https:data:image/gif;base64,R0lGODlhAQABAIABAAAAAP///yH5BAEAAAEALAAAAAABAAEAQAICTAEAOw%3D%3D': No host supplied\n",
            "Gambar 20 (large): https:data:image/gif;base64,R0lGODlhAQABAIABAAAAAP///yH5BAEAAAEALAAAAAABAAEAQAICTAEAOw%3D%3D\n",
            "Gagal mengunduh gambar: Invalid URL 'https:data:image/gif;base64,R0lGODlhAQABAIABAAAAAP///yH5BAEAAAEALAAAAAABAAEAQAICTAEAOw%3D%3D': No host supplied\n",
            "Gambar 21 (large): https:data:image/gif;base64,R0lGODlhAQABAIABAAAAAP///yH5BAEAAAEALAAAAAABAAEAQAICTAEAOw%3D%3D\n",
            "Gagal mengunduh gambar: Invalid URL 'https:data:image/gif;base64,R0lGODlhAQABAIABAAAAAP///yH5BAEAAAEALAAAAAABAAEAQAICTAEAOw%3D%3D': No host supplied\n",
            "Gambar 22 (large): https:data:image/gif;base64,R0lGODlhAQABAIABAAAAAP///yH5BAEAAAEALAAAAAABAAEAQAICTAEAOw%3D%3D\n",
            "Gagal mengunduh gambar: Invalid URL 'https:data:image/gif;base64,R0lGODlhAQABAIABAAAAAP///yH5BAEAAAEALAAAAAABAAEAQAICTAEAOw%3D%3D': No host supplied\n",
            "Gambar 23 (large): https:data:image/gif;base64,R0lGODlhAQABAIABAAAAAP///yH5BAEAAAEALAAAAAABAAEAQAICTAEAOw%3D%3D\n",
            "Gagal mengunduh gambar: Invalid URL 'https:data:image/gif;base64,R0lGODlhAQABAIABAAAAAP///yH5BAEAAAEALAAAAAABAAEAQAICTAEAOw%3D%3D': No host supplied\n",
            "Gambar 24 (large): https:data:image/gif;base64,R0lGODlhAQABAIABAAAAAP///yH5BAEAAAEALAAAAAABAAEAQAICTAEAOw%3D%3D\n",
            "Gagal mengunduh gambar: Invalid URL 'https:data:image/gif;base64,R0lGODlhAQABAIABAAAAAP///yH5BAEAAAEALAAAAAABAAEAQAICTAEAOw%3D%3D': No host supplied\n",
            "Gambar 25 (large): https:data:image/gif;base64,R0lGODlhAQABAIABAAAAAP///yH5BAEAAAEALAAAAAABAAEAQAICTAEAOw%3D%3D\n",
            "Gagal mengunduh gambar: Invalid URL 'https:data:image/gif;base64,R0lGODlhAQABAIABAAAAAP///yH5BAEAAAEALAAAAAABAAEAQAICTAEAOw%3D%3D': No host supplied\n",
            "Gambar 26 (large): https://static.wikia.nocookie.net/megamitensei/images/e/e4/P4GPoster.jpg/revision/latest/scale-to-width-down/250?cb=20160515025030\n",
            "Gambar 26 berhasil disimpan sebagai downloaded_images/large/image_26.jpg\n"
          ]
        },
        {
          "output_type": "display_data",
          "data": {
            "text/html": [
              "<img src=\"https://static.wikia.nocookie.net/megamitensei/images/e/e4/P4GPoster.jpg/revision/latest/scale-to-width-down/250?cb=20160515025030\"/>"
            ],
            "text/plain": [
              "<IPython.core.display.Image object>"
            ]
          },
          "metadata": {}
        },
        {
          "output_type": "stream",
          "name": "stdout",
          "text": [
            "Gambar 27 (large): https:data:image/gif;base64,R0lGODlhAQABAIABAAAAAP///yH5BAEAAAEALAAAAAABAAEAQAICTAEAOw%3D%3D\n",
            "Gagal mengunduh gambar: Invalid URL 'https:data:image/gif;base64,R0lGODlhAQABAIABAAAAAP///yH5BAEAAAEALAAAAAABAAEAQAICTAEAOw%3D%3D': No host supplied\n",
            "Gambar 28 (large): https:data:image/gif;base64,R0lGODlhAQABAIABAAAAAP///yH5BAEAAAEALAAAAAABAAEAQAICTAEAOw%3D%3D\n",
            "Gagal mengunduh gambar: Invalid URL 'https:data:image/gif;base64,R0lGODlhAQABAIABAAAAAP///yH5BAEAAAEALAAAAAABAAEAQAICTAEAOw%3D%3D': No host supplied\n",
            "Gambar 29 (large): https://static.wikia.nocookie.net/megamitensei/images/3/3c/Dojimaresi.jpg/revision/latest/scale-to-width-down/250?cb=20090601135732\n",
            "Gambar 29 berhasil disimpan sebagai downloaded_images/large/image_29.jpg\n"
          ]
        },
        {
          "output_type": "display_data",
          "data": {
            "text/html": [
              "<img src=\"https://static.wikia.nocookie.net/megamitensei/images/3/3c/Dojimaresi.jpg/revision/latest/scale-to-width-down/250?cb=20090601135732\"/>"
            ],
            "text/plain": [
              "<IPython.core.display.Image object>"
            ]
          },
          "metadata": {}
        },
        {
          "output_type": "stream",
          "name": "stdout",
          "text": [
            "Gambar 30 (large): https:data:image/gif;base64,R0lGODlhAQABAIABAAAAAP///yH5BAEAAAEALAAAAAABAAEAQAICTAEAOw%3D%3D\n",
            "Gagal mengunduh gambar: Invalid URL 'https:data:image/gif;base64,R0lGODlhAQABAIABAAAAAP///yH5BAEAAAEALAAAAAABAAEAQAICTAEAOw%3D%3D': No host supplied\n",
            "Gambar 31 (large): https://static.wikia.nocookie.net/megamitensei/images/1/13/Brosuke.gif/revision/latest/scale-to-width-down/250?cb=20170211005706\n",
            "Gambar 31 berhasil disimpan sebagai downloaded_images/large/image_31.jpg\n"
          ]
        },
        {
          "output_type": "display_data",
          "data": {
            "text/html": [
              "<img src=\"https://static.wikia.nocookie.net/megamitensei/images/1/13/Brosuke.gif/revision/latest/scale-to-width-down/250?cb=20170211005706\"/>"
            ],
            "text/plain": [
              "<IPython.core.display.Image object>"
            ]
          },
          "metadata": {}
        },
        {
          "output_type": "stream",
          "name": "stdout",
          "text": [
            "Gambar 32 (large): https:data:image/gif;base64,R0lGODlhAQABAIABAAAAAP///yH5BAEAAAEALAAAAAABAAEAQAICTAEAOw%3D%3D\n",
            "Gagal mengunduh gambar: Invalid URL 'https:data:image/gif;base64,R0lGODlhAQABAIABAAAAAP///yH5BAEAAAEALAAAAAABAAEAQAICTAEAOw%3D%3D': No host supplied\n",
            "Gambar 33 (large): https://static.wikia.nocookie.net/megamitensei/images/f/fe/Midnight.png/revision/latest/scale-to-width-down/250?cb=20200904013026\n",
            "Gambar 33 berhasil disimpan sebagai downloaded_images/large/image_33.jpg\n"
          ]
        },
        {
          "output_type": "display_data",
          "data": {
            "text/html": [
              "<img src=\"https://static.wikia.nocookie.net/megamitensei/images/f/fe/Midnight.png/revision/latest/scale-to-width-down/250?cb=20200904013026\"/>"
            ],
            "text/plain": [
              "<IPython.core.display.Image object>"
            ]
          },
          "metadata": {}
        },
        {
          "output_type": "stream",
          "name": "stdout",
          "text": [
            "Gambar 34 (large): https:data:image/gif;base64,R0lGODlhAQABAIABAAAAAP///yH5BAEAAAEALAAAAAABAAEAQAICTAEAOw%3D%3D\n",
            "Gagal mengunduh gambar: Invalid URL 'https:data:image/gif;base64,R0lGODlhAQABAIABAAAAAP///yH5BAEAAAEALAAAAAABAAEAQAICTAEAOw%3D%3D': No host supplied\n",
            "Gambar 35 (large): https://static.wikia.nocookie.net/megamitensei/images/8/80/Persona_4_Yukiko%27s_Castle_2.jpg/revision/latest/scale-to-width-down/250?cb=20111228060845\n",
            "Gambar 35 berhasil disimpan sebagai downloaded_images/large/image_35.jpg\n"
          ]
        },
        {
          "output_type": "display_data",
          "data": {
            "text/html": [
              "<img src=\"https://static.wikia.nocookie.net/megamitensei/images/8/80/Persona_4_Yukiko%27s_Castle_2.jpg/revision/latest/scale-to-width-down/250?cb=20111228060845\"/>"
            ],
            "text/plain": [
              "<IPython.core.display.Image object>"
            ]
          },
          "metadata": {}
        },
        {
          "output_type": "stream",
          "name": "stdout",
          "text": [
            "Gambar 36 (large): https:data:image/gif;base64,R0lGODlhAQABAIABAAAAAP///yH5BAEAAAEALAAAAAABAAEAQAICTAEAOw%3D%3D\n",
            "Gagal mengunduh gambar: Invalid URL 'https:data:image/gif;base64,R0lGODlhAQABAIABAAAAAP///yH5BAEAAAEALAAAAAABAAEAQAICTAEAOw%3D%3D': No host supplied\n",
            "Gambar 37 (large): https://static.wikia.nocookie.net/megamitensei/images/8/8e/Yip2.png/revision/latest/scale-to-width-down/250?cb=20160917122451\n",
            "Gambar 37 berhasil disimpan sebagai downloaded_images/large/image_37.jpg\n"
          ]
        },
        {
          "output_type": "display_data",
          "data": {
            "text/html": [
              "<img src=\"https://static.wikia.nocookie.net/megamitensei/images/8/8e/Yip2.png/revision/latest/scale-to-width-down/250?cb=20160917122451\"/>"
            ],
            "text/plain": [
              "<IPython.core.display.Image object>"
            ]
          },
          "metadata": {}
        },
        {
          "output_type": "stream",
          "name": "stdout",
          "text": [
            "Gambar 38 (large): https:data:image/gif;base64,R0lGODlhAQABAIABAAAAAP///yH5BAEAAAEALAAAAAABAAEAQAICTAEAOw%3D%3D\n",
            "Gagal mengunduh gambar: Invalid URL 'https:data:image/gif;base64,R0lGODlhAQABAIABAAAAAP///yH5BAEAAAEALAAAAAABAAEAQAICTAEAOw%3D%3D': No host supplied\n",
            "Gambar 39 (large): https://static.wikia.nocookie.net/megamitensei/images/c/cf/AllOutP4.png/revision/latest/scale-to-width-down/250?cb=20160927185944\n",
            "Gambar 39 berhasil disimpan sebagai downloaded_images/large/image_39.jpg\n"
          ]
        },
        {
          "output_type": "display_data",
          "data": {
            "text/html": [
              "<img src=\"https://static.wikia.nocookie.net/megamitensei/images/c/cf/AllOutP4.png/revision/latest/scale-to-width-down/250?cb=20160927185944\"/>"
            ],
            "text/plain": [
              "<IPython.core.display.Image object>"
            ]
          },
          "metadata": {}
        },
        {
          "output_type": "stream",
          "name": "stdout",
          "text": [
            "Gambar 40 (large): https:data:image/gif;base64,R0lGODlhAQABAIABAAAAAP///yH5BAEAAAEALAAAAAABAAEAQAICTAEAOw%3D%3D\n",
            "Gagal mengunduh gambar: Invalid URL 'https:data:image/gif;base64,R0lGODlhAQABAIABAAAAAP///yH5BAEAAAEALAAAAAABAAEAQAICTAEAOw%3D%3D': No host supplied\n",
            "Gambar 41 (large): https://static.wikia.nocookie.net/megamitensei/images/f/f1/ShuffleTimeP4.png/revision/latest/scale-to-width-down/250?cb=20160927190238\n",
            "Gambar 41 berhasil disimpan sebagai downloaded_images/large/image_41.jpg\n"
          ]
        },
        {
          "output_type": "display_data",
          "data": {
            "text/html": [
              "<img src=\"https://static.wikia.nocookie.net/megamitensei/images/f/f1/ShuffleTimeP4.png/revision/latest/scale-to-width-down/250?cb=20160927190238\"/>"
            ],
            "text/plain": [
              "<IPython.core.display.Image object>"
            ]
          },
          "metadata": {}
        },
        {
          "output_type": "stream",
          "name": "stdout",
          "text": [
            "Gambar 42 (small): https://static.wikia.nocookie.net/megamitensei/images/f/fe/Persona_4_Logo_White.png/revision/latest/scale-to-width-down/185?cb=20210606140945\n",
            "Gambar 42 berhasil disimpan sebagai downloaded_images/small/image_42.jpg\n"
          ]
        },
        {
          "output_type": "display_data",
          "data": {
            "text/html": [
              "<img src=\"https://static.wikia.nocookie.net/megamitensei/images/f/fe/Persona_4_Logo_White.png/revision/latest/scale-to-width-down/185?cb=20210606140945\"/>"
            ],
            "text/plain": [
              "<IPython.core.display.Image object>"
            ]
          },
          "metadata": {}
        },
        {
          "output_type": "stream",
          "name": "stdout",
          "text": [
            "Gambar 43 (small): https:data:image/gif;base64,R0lGODlhAQABAIABAAAAAP///yH5BAEAAAEALAAAAAABAAEAQAICTAEAOw%3D%3D\n",
            "Gagal mengunduh gambar: Invalid URL 'https:data:image/gif;base64,R0lGODlhAQABAIABAAAAAP///yH5BAEAAAEALAAAAAABAAEAQAICTAEAOw%3D%3D': No host supplied\n",
            "Gambar 44 (small): https://static.wikia.nocookie.net/megamitensei/images/b/b1/Persona4cover.jpg/revision/latest/scale-to-width-down/130?cb=20080609040715\n",
            "Gambar 44 berhasil disimpan sebagai downloaded_images/small/image_44.jpg\n"
          ]
        },
        {
          "output_type": "display_data",
          "data": {
            "text/html": [
              "<img src=\"https://static.wikia.nocookie.net/megamitensei/images/b/b1/Persona4cover.jpg/revision/latest/scale-to-width-down/130?cb=20080609040715\"/>"
            ],
            "text/plain": [
              "<IPython.core.display.Image object>"
            ]
          },
          "metadata": {}
        },
        {
          "output_type": "stream",
          "name": "stdout",
          "text": [
            "Gambar 45 (small): https:data:image/gif;base64,R0lGODlhAQABAIABAAAAAP///yH5BAEAAAEALAAAAAABAAEAQAICTAEAOw%3D%3D\n",
            "Gagal mengunduh gambar: Invalid URL 'https:data:image/gif;base64,R0lGODlhAQABAIABAAAAAP///yH5BAEAAAEALAAAAAABAAEAQAICTAEAOw%3D%3D': No host supplied\n",
            "Gambar 46 (small): https://static.wikia.nocookie.net/megamitensei/images/2/27/SMTPersona4cover.jpg/revision/latest/scale-to-width-down/131?cb=20090313085833\n",
            "Gambar 46 berhasil disimpan sebagai downloaded_images/small/image_46.jpg\n"
          ]
        },
        {
          "output_type": "display_data",
          "data": {
            "text/html": [
              "<img src=\"https://static.wikia.nocookie.net/megamitensei/images/2/27/SMTPersona4cover.jpg/revision/latest/scale-to-width-down/131?cb=20090313085833\"/>"
            ],
            "text/plain": [
              "<IPython.core.display.Image object>"
            ]
          },
          "metadata": {}
        },
        {
          "output_type": "stream",
          "name": "stdout",
          "text": [
            "Gambar 47 (small): https:data:image/gif;base64,R0lGODlhAQABAIABAAAAAP///yH5BAEAAAEALAAAAAABAAEAQAICTAEAOw%3D%3D\n",
            "Gagal mengunduh gambar: Invalid URL 'https:data:image/gif;base64,R0lGODlhAQABAIABAAAAAP///yH5BAEAAAEALAAAAAABAAEAQAICTAEAOw%3D%3D': No host supplied\n",
            "Gambar 48 (small): https://static.wikia.nocookie.net/megamitensei/images/2/29/Persona_4.jpg/revision/latest/scale-to-width-down/131?cb=20090402213705\n",
            "Gambar 48 berhasil disimpan sebagai downloaded_images/small/image_48.jpg\n"
          ]
        },
        {
          "output_type": "display_data",
          "data": {
            "text/html": [
              "<img src=\"https://static.wikia.nocookie.net/megamitensei/images/2/29/Persona_4.jpg/revision/latest/scale-to-width-down/131?cb=20090402213705\"/>"
            ],
            "text/plain": [
              "<IPython.core.display.Image object>"
            ]
          },
          "metadata": {}
        },
        {
          "output_type": "stream",
          "name": "stdout",
          "text": [
            "Gambar 49 (small): https:data:image/gif;base64,R0lGODlhAQABAIABAAAAAP///yH5BAEAAAEALAAAAAABAAEAQAICTAEAOw%3D%3D\n",
            "Gagal mengunduh gambar: Invalid URL 'https:data:image/gif;base64,R0lGODlhAQABAIABAAAAAP///yH5BAEAAAEALAAAAAABAAEAQAICTAEAOw%3D%3D': No host supplied\n",
            "Gambar 50 (small): https://static.wikia.nocookie.net/megamitensei/images/8/83/P4-Concept.jpg/revision/latest/scale-to-width-down/185?cb=20080810030201\n",
            "Gambar 50 berhasil disimpan sebagai downloaded_images/small/image_50.jpg\n"
          ]
        },
        {
          "output_type": "display_data",
          "data": {
            "text/html": [
              "<img src=\"https://static.wikia.nocookie.net/megamitensei/images/8/83/P4-Concept.jpg/revision/latest/scale-to-width-down/185?cb=20080810030201\"/>"
            ],
            "text/plain": [
              "<IPython.core.display.Image object>"
            ]
          },
          "metadata": {}
        },
        {
          "output_type": "stream",
          "name": "stdout",
          "text": [
            "Gambar 51 (small): https:data:image/gif;base64,R0lGODlhAQABAIABAAAAAP///yH5BAEAAAEALAAAAAABAAEAQAICTAEAOw%3D%3D\n",
            "Gagal mengunduh gambar: Invalid URL 'https:data:image/gif;base64,R0lGODlhAQABAIABAAAAAP///yH5BAEAAAEALAAAAAABAAEAQAICTAEAOw%3D%3D': No host supplied\n",
            "Gambar 52 (small): https://static.wikia.nocookie.net/megamitensei/images/a/a8/Persona_DoubleJump_Atlus_Interview.png/revision/latest/scale-to-width-down/185?cb=20141130072813\n",
            "Gambar 52 berhasil disimpan sebagai downloaded_images/small/image_52.jpg\n"
          ]
        },
        {
          "output_type": "display_data",
          "data": {
            "text/html": [
              "<img src=\"https://static.wikia.nocookie.net/megamitensei/images/a/a8/Persona_DoubleJump_Atlus_Interview.png/revision/latest/scale-to-width-down/185?cb=20141130072813\"/>"
            ],
            "text/plain": [
              "<IPython.core.display.Image object>"
            ]
          },
          "metadata": {}
        },
        {
          "output_type": "stream",
          "name": "stdout",
          "text": [
            "Gambar 53 (small): https:data:image/gif;base64,R0lGODlhAQABAIABAAAAAP///yH5BAEAAAEALAAAAAABAAEAQAICTAEAOw%3D%3D\n",
            "Gagal mengunduh gambar: Invalid URL 'https:data:image/gif;base64,R0lGODlhAQABAIABAAAAAP///yH5BAEAAAEALAAAAAABAAEAQAICTAEAOw%3D%3D': No host supplied\n",
            "Gambar 54 (large): https:data:image/gif;base64,R0lGODlhAQABAIABAAAAAP///yH5BAEAAAEALAAAAAABAAEAQAICTAEAOw%3D%3D\n",
            "Gagal mengunduh gambar: Invalid URL 'https:data:image/gif;base64,R0lGODlhAQABAIABAAAAAP///yH5BAEAAAEALAAAAAABAAEAQAICTAEAOw%3D%3D': No host supplied\n",
            "Gambar 55 (large): https:data:image/gif;base64,R0lGODlhAQABAIABAAAAAP///yH5BAEAAAEALAAAAAABAAEAQAICTAEAOw%3D%3D\n",
            "Gagal mengunduh gambar: Invalid URL 'https:data:image/gif;base64,R0lGODlhAQABAIABAAAAAP///yH5BAEAAAEALAAAAAABAAEAQAICTAEAOw%3D%3D': No host supplied\n",
            "Gambar 56 (large): https:data:image/gif;base64,R0lGODlhAQABAIABAAAAAP///yH5BAEAAAEALAAAAAABAAEAQAICTAEAOw%3D%3D\n",
            "Gagal mengunduh gambar: Invalid URL 'https:data:image/gif;base64,R0lGODlhAQABAIABAAAAAP///yH5BAEAAAEALAAAAAABAAEAQAICTAEAOw%3D%3D': No host supplied\n",
            "Gambar 57 (large): https:data:image/gif;base64,R0lGODlhAQABAIABAAAAAP///yH5BAEAAAEALAAAAAABAAEAQAICTAEAOw%3D%3D\n",
            "Gagal mengunduh gambar: Invalid URL 'https:data:image/gif;base64,R0lGODlhAQABAIABAAAAAP///yH5BAEAAAEALAAAAAABAAEAQAICTAEAOw%3D%3D': No host supplied\n",
            "Gambar 58 (large): https:data:image/gif;base64,R0lGODlhAQABAIABAAAAAP///yH5BAEAAAEALAAAAAABAAEAQAICTAEAOw%3D%3D\n",
            "Gagal mengunduh gambar: Invalid URL 'https:data:image/gif;base64,R0lGODlhAQABAIABAAAAAP///yH5BAEAAAEALAAAAAABAAEAQAICTAEAOw%3D%3D': No host supplied\n",
            "Gambar 59 (small): https:data:image/gif;base64,R0lGODlhAQABAIABAAAAAP///yH5BAEAAAEALAAAAAABAAEAQAICTAEAOw%3D%3D\n",
            "Gagal mengunduh gambar: Invalid URL 'https:data:image/gif;base64,R0lGODlhAQABAIABAAAAAP///yH5BAEAAAEALAAAAAABAAEAQAICTAEAOw%3D%3D': No host supplied\n",
            "Gambar 60 (small): https:data:image/gif;base64,R0lGODlhAQABAIABAAAAAP///yH5BAEAAAEALAAAAAABAAEAQAICTAEAOw%3D%3D\n",
            "Gagal mengunduh gambar: Invalid URL 'https:data:image/gif;base64,R0lGODlhAQABAIABAAAAAP///yH5BAEAAAEALAAAAAABAAEAQAICTAEAOw%3D%3D': No host supplied\n",
            "Gambar 61 (small): https:data:image/gif;base64,R0lGODlhAQABAIABAAAAAP///yH5BAEAAAEALAAAAAABAAEAQAICTAEAOw%3D%3D\n",
            "Gagal mengunduh gambar: Invalid URL 'https:data:image/gif;base64,R0lGODlhAQABAIABAAAAAP///yH5BAEAAAEALAAAAAABAAEAQAICTAEAOw%3D%3D': No host supplied\n",
            "Gambar 62 (large): https:data:image/gif;base64,R0lGODlhAQABAIABAAAAAP///yH5BAEAAAEALAAAAAABAAEAQAICTAEAOw%3D%3D\n",
            "Gagal mengunduh gambar: Invalid URL 'https:data:image/gif;base64,R0lGODlhAQABAIABAAAAAP///yH5BAEAAAEALAAAAAABAAEAQAICTAEAOw%3D%3D': No host supplied\n",
            "Gambar 63 (large): https://static.wikia.nocookie.net/megamitensei/images/3/34/Plastic_Robot_Models_%28P4G%29.jpg/revision/latest/scale-to-width-down/250?cb=20130816191426\n",
            "Gambar 63 berhasil disimpan sebagai downloaded_images/large/image_63.jpg\n"
          ]
        },
        {
          "output_type": "display_data",
          "data": {
            "text/html": [
              "<img src=\"https://static.wikia.nocookie.net/megamitensei/images/3/34/Plastic_Robot_Models_%28P4G%29.jpg/revision/latest/scale-to-width-down/250?cb=20130816191426\"/>"
            ],
            "text/plain": [
              "<IPython.core.display.Image object>"
            ]
          },
          "metadata": {}
        },
        {
          "output_type": "stream",
          "name": "stdout",
          "text": [
            "Gambar 64 (large): https://static.wikia.nocookie.net/ff185fe4-8356-4b6b-ad48-621b95a82a1d\n",
            "Gambar 64 berhasil disimpan sebagai downloaded_images/large/image_64.jpg\n"
          ]
        },
        {
          "output_type": "display_data",
          "data": {
            "text/html": [
              "<img src=\"https://static.wikia.nocookie.net/ff185fe4-8356-4b6b-ad48-621b95a82a1d\"/>"
            ],
            "text/plain": [
              "<IPython.core.display.Image object>"
            ]
          },
          "metadata": {}
        },
        {
          "output_type": "stream",
          "name": "stdout",
          "text": [
            "Gambar 65 (large): https://static.wikia.nocookie.net/f3fc9271-3d5e-4c73-9afc-e6a9f6154ff1\n",
            "Gambar 65 berhasil disimpan sebagai downloaded_images/large/image_65.jpg\n"
          ]
        },
        {
          "output_type": "display_data",
          "data": {
            "text/html": [
              "<img src=\"https://static.wikia.nocookie.net/f3fc9271-3d5e-4c73-9afc-e6a9f6154ff1\"/>"
            ],
            "text/plain": [
              "<IPython.core.display.Image object>"
            ]
          },
          "metadata": {}
        },
        {
          "output_type": "stream",
          "name": "stdout",
          "text": [
            "Gambar 66 (large): https://static.wikia.nocookie.net/3f46912f-45a8-47f0-ac9d-6dca02c3a5ca\n",
            "Gambar 66 berhasil disimpan sebagai downloaded_images/large/image_66.jpg\n"
          ]
        },
        {
          "output_type": "display_data",
          "data": {
            "text/html": [
              "<img src=\"https://static.wikia.nocookie.net/3f46912f-45a8-47f0-ac9d-6dca02c3a5ca\"/>"
            ],
            "text/plain": [
              "<IPython.core.display.Image object>"
            ]
          },
          "metadata": {}
        },
        {
          "output_type": "stream",
          "name": "stdout",
          "text": [
            "Gambar 67 (large): https://static.wikia.nocookie.net/6e8f2e52-ab5a-427f-a836-ab57168161ec\n",
            "Gambar 67 berhasil disimpan sebagai downloaded_images/large/image_67.jpg\n"
          ]
        },
        {
          "output_type": "display_data",
          "data": {
            "text/html": [
              "<img src=\"https://static.wikia.nocookie.net/6e8f2e52-ab5a-427f-a836-ab57168161ec\"/>"
            ],
            "text/plain": [
              "<IPython.core.display.Image object>"
            ]
          },
          "metadata": {}
        }
      ],
      "source": [
        "# Install dependencies\n",
        "!pip install beautifulsoup4 requests\n",
        "\n",
        "# Import library\n",
        "import requests\n",
        "from bs4 import BeautifulSoup\n",
        "from IPython.display import Image, display\n",
        "import os\n",
        "\n",
        "# Target URL\n",
        "url = \"https://megamitensei.fandom.com/wiki/Persona_4\"\n",
        "\n",
        "# Request halaman web\n",
        "response = requests.get(url)\n",
        "if response.status_code == 200:\n",
        "    print(\"Situs berhasil diakses!\")\n",
        "else:\n",
        "    print(f\"Gagal mengakses situs, kode status: {response.status_code}\")\n",
        "\n",
        "# Parsing konten HTML\n",
        "soup = BeautifulSoup(response.content, \"html.parser\")\n",
        "\n",
        "# Mengambil data teks (judul, deskripsi, dan daftar poin)\n",
        "def scrape_text():\n",
        "    # Mengambil judul halaman\n",
        "    title = soup.find(\"h1\", {\"class\": \"page-header__title\"})\n",
        "    if title:\n",
        "        print(f\"Judul Halaman: {title.get_text(strip=True)}\")\n",
        "    else:\n",
        "        print(\"Judul halaman tidak ditemukan.\")\n",
        "\n",
        "    # Mengambil deskripsi/summary\n",
        "    summary = soup.find(\"div\", {\"class\": \"mw-parser-output\"})\n",
        "    if summary:\n",
        "        print(\"\\n== Deskripsi Singkat ==\")\n",
        "        paragraphs = summary.find_all(\"p\")\n",
        "        for i, p in enumerate(paragraphs[:3]):  # Menampilkan 3 paragraf pertama\n",
        "            print(f\"Paragraf {i+1}:\\n{p.get_text(strip=True)}\\n\")\n",
        "    else:\n",
        "        print(\"Deskripsi tidak ditemukan.\")\n",
        "\n",
        "    # Mengambil daftar poin (jika ada)\n",
        "    print(\"\\n== Daftar Poin ==\")\n",
        "    bullet_points = summary.find_all(\"ul\")\n",
        "    if bullet_points:\n",
        "        for ul in bullet_points[:2]:  # Batas 2 daftar poin pertama\n",
        "            for li in ul.find_all(\"li\"):\n",
        "                print(f\"- {li.get_text(strip=True)}\")\n",
        "    else:\n",
        "        print(\"Daftar poin tidak ditemukan.\")\n",
        "\n",
        "# Mengambil gambar utama berdasarkan kategori\n",
        "def scrape_images():\n",
        "    # Membuat folder untuk menyimpan gambar berdasarkan kategori\n",
        "    os.makedirs(\"downloaded_images/small\", exist_ok=True)\n",
        "    os.makedirs(\"downloaded_images/large\", exist_ok=True)\n",
        "\n",
        "    # Mengambil semua elemen gambar\n",
        "    images = soup.find_all(\"img\", {\"src\": True})\n",
        "    for i, img in enumerate(images):  # Proses semua gambar yang ditemukan\n",
        "        img_url = img[\"src\"]\n",
        "\n",
        "        # Handle URL yang tidak lengkap\n",
        "        if not img_url.startswith(\"http\"):\n",
        "            img_url = \"https:\" + img_url\n",
        "\n",
        "        # Membandingkan ukuran gambar menggunakan atribut 'width' atau 'height' jika tersedia\n",
        "        img_width = img.get(\"width\")\n",
        "        img_category = \"small\" if img_width and int(img_width) < 200 else \"large\"\n",
        "\n",
        "        print(f\"Gambar {i+1} ({img_category}): {img_url}\")\n",
        "        try:\n",
        "            # Download gambar\n",
        "            img_data = requests.get(img_url).content\n",
        "            img_filename = f\"downloaded_images/{img_category}/image_{i+1}.jpg\"\n",
        "            with open(img_filename, \"wb\") as f:\n",
        "                f.write(img_data)\n",
        "            print(f\"Gambar {i+1} berhasil disimpan sebagai {img_filename}\")\n",
        "\n",
        "            # Tampilkan gambar di output\n",
        "            display(Image(url=img_url))\n",
        "        except Exception as e:\n",
        "            print(f\"Gagal mengunduh gambar: {e}\")\n",
        "\n",
        "# Jalankan fungsi scraping\n",
        "print(\"\\n== Data Teks ==\")\n",
        "scrape_text()\n",
        "print(\"\\n== Data Gambar Berdasarkan Kategori ==\")\n",
        "scrape_images()\n"
      ]
    }
  ]
}